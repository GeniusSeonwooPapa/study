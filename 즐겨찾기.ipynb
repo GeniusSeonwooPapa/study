{
  "nbformat": 4,
  "nbformat_minor": 0,
  "metadata": {
    "colab": {
      "provenance": []
    },
    "kernelspec": {
      "name": "python3",
      "display_name": "Python 3"
    },
    "language_info": {
      "name": "python"
    }
  },
  "cells": [
    {
      "cell_type": "markdown",
      "source": [
        "넘파이 레퍼런스  https://numpy.org/doc/stable/reference/routines.linalg.html"
      ],
      "metadata": {
        "id": "Lz4Q2OZzyhpg"
      }
    },
    {
      "cell_type": "markdown",
      "source": [
        "Online circuit simulator & schematic editor - CircuitLab     https://www.circuitlab.com\n",
        "\n"
      ],
      "metadata": {
        "id": "woOiVjKAxEte"
      }
    },
    {
      "cell_type": "markdown",
      "source": [
        "전자책(영문) https://ultimateelectronicsbook.com"
      ],
      "metadata": {
        "id": "YyVFckAIyt-C"
      }
    },
    {
      "cell_type": "markdown",
      "source": [
        "코딩게임 www.codingame.com"
      ],
      "metadata": {
        "id": "ARqS2iZDy-gZ"
      }
    },
    {
      "cell_type": "markdown",
      "source": [
        "더북(TheBook)   https://thebook.io/"
      ],
      "metadata": {
        "id": "awnjJVBhzQGx"
      }
    }
  ]
}